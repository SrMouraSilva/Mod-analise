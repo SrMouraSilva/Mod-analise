{
 "cells": [
  {
   "cell_type": "markdown",
   "metadata": {},
   "source": [
    "# 4 - Modelo de categorização de pedalboards e sugestão de plugins de áudio\n",
    "\n",
    "## Sugestão\n",
    "\n",
    "* 3.1 - Distribuição dos efeitos nos pedalboards no eixo X: Faixas com plugins não inseridos podem dar ideias de quais os plugins estão faltando: http://moddevices.com/plugins/mod-devel/Gain2x2, o plugin mais utilizado em 04/12/2016 \n",
    "* 3.1 - Plugins de áudio mais utilizados: Excelente para: Você não faz ideia por onde começar? Que tal esses?\n",
    "* Correlação e Categorização:\n",
    " * Correlação: Quais os plugins de áudio que mais combinam com os presentes?\n",
    " * Categorização: Se a maioria dos plugins utilizados se enquadram em uma categoria \"Trash Metal\", seria interessante sugerir outros do tipo.\n",
    "\n",
    "## Categorização\n",
    "\n"
   ]
  }
 ],
 "metadata": {
  "anaconda-cloud": {},
  "kernelspec": {
   "display_name": "Python [conda root]",
   "language": "python",
   "name": "conda-root-py"
  },
  "language_info": {
   "codemirror_mode": {
    "name": "ipython",
    "version": 3
   },
   "file_extension": ".py",
   "mimetype": "text/x-python",
   "name": "python",
   "nbconvert_exporter": "python",
   "pygments_lexer": "ipython3",
   "version": "3.5.2"
  }
 },
 "nbformat": 4,
 "nbformat_minor": 2
}
