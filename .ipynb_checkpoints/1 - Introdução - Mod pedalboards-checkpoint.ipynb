{
 "cells": [
  {
   "cell_type": "markdown",
   "metadata": {
    "nbpresent": {
     "id": "afdb42d2-d9a0-4891-9448-4e37c36c484f"
    }
   },
   "source": [
    "# 1 - Introdução - Mod pedalboards\n",
    "\n",
    "[pedalboards.moddevices.com](https://pedalboards.moddevices.com/) é um site desenvolvido pela ModDevices para o compartilhamento de pedalboards - configurações de utilização de plugins de áudio.\n",
    "\n",
    "Algumas perguntas vem a mente:\n",
    "\n",
    "* Quais os plugins de áudio mais utilizados? E os menos?\n",
    "* Existe alguma empresa preferida?\n",
    "* Com base na descrição dos plugins, seria possível categorizar os patches? Ex: Clean, crunch, solo, shimmer.\n",
    " * Se sim, seria possível obter quais os plugins mais desejados para determinado ritmo?\n",
    "\n",
    "Graças a algum desenvolvedor legal, eles utilizam-se de uma API."
   ]
  },
  {
   "cell_type": "markdown",
   "metadata": {},
   "source": [
    "## Fonte de dados\n",
    "\n",
    "Pegar os 2 mais recentes pedalboards criados:"
   ]
  },
  {
   "cell_type": "code",
   "execution_count": 2,
   "metadata": {
    "collapsed": false,
    "nbpresent": {
     "id": "95039020-356f-40fe-896c-ed3378d62805"
    }
   },
   "outputs": [
    {
     "name": "stdout",
     "output_type": "stream",
     "text": [
      "{'items': [{'created': '2016-12-02T12:56:24.984000', 'author': {'avatarUrl': 'https://www.gravatar.com/avatar/56fd147c79402e963f3c6cc04eea44f9', 'name': 'Breno Ghiorzi'}, 'imageUrl': 'https://api.moddevices.com/v2/pedalboards/58416f792564d40589088018/screenshot', 'fileHref': 'https://api.moddevices.com/v2/pedalboards/58416f792564d40589088018/file', 'id': '58416f792564d40589088018', 'title': 'Basic Power Trio Guit', 'audioUrl': 'https://api.moddevices.com/v2/pedalboards/58416f792564d40589088018/audio', 'hasAudio': True, 'description': 'Practical set for basic power trio gigs.\\nClean, Drive, and Solo Delay...', 'plugins': []}, {'created': '2016-12-02T04:05:35.403000', 'author': {'avatarUrl': 'https://www.gravatar.com/avatar/none', 'name': 'Mariva'}, 'imageUrl': 'https://api.moddevices.com/v2/pedalboards/5840f30f2564d4058ad4c0f1/screenshot', 'fileHref': 'https://api.moddevices.com/v2/pedalboards/5840f30f2564d4058ad4c0f1/file', 'id': '5840f30f2564d4058ad4c0f1', 'title': 'Crunch with Clean Ambience', 'audioUrl': 'https://api.moddevices.com/v2/pedalboards/5840f30f2564d4058ad4c0f1/audio', 'hasAudio': True, 'description': 'A strong Crunch (DS), with deep and clean ambience. Using DS-1 in parallel with Chorus, Delay (Shiro) and Shimmer in Clean Channel. ', 'plugins': []}], 'randomizeSeed': None, 'hasMore': True}\n"
     ]
    }
   ],
   "source": [
    "import requests\n",
    "import json\n",
    "\n",
    "r = requests.get('https://pedalboards.moddevices.com/api/pedalboards?skip=0&take=2')\n",
    "data = r.json()\n",
    "\n",
    "print(data)"
   ]
  },
  {
   "cell_type": "markdown",
   "metadata": {},
   "source": [
    "Imprimir de forma mais elegante. A função `info` criada será utilizada no decorrer deste notebook"
   ]
  },
  {
   "cell_type": "code",
   "execution_count": 3,
   "metadata": {
    "collapsed": false,
    "nbpresent": {
     "id": "ed239fb6-d58b-4de8-87d1-8735b3e11b45"
    },
    "scrolled": true
   },
   "outputs": [
    {
     "data": {
      "text/html": [
       "<div>\n",
       "<table border=\"1\" class=\"dataframe\">\n",
       "  <thead>\n",
       "    <tr style=\"text-align: right;\">\n",
       "      <th></th>\n",
       "      <th>created</th>\n",
       "      <th>description</th>\n",
       "      <th>id</th>\n",
       "      <th>imageUrl</th>\n",
       "      <th>plugins</th>\n",
       "      <th>title</th>\n",
       "    </tr>\n",
       "  </thead>\n",
       "  <tbody>\n",
       "    <tr>\n",
       "      <th>0</th>\n",
       "      <td>2016-12-02T12:56:24.984000</td>\n",
       "      <td>Practical set for basic power trio gigs.\\nClea...</td>\n",
       "      <td>58416f792564d40589088018</td>\n",
       "      <td>https://api.moddevices.com/v2/pedalboards/5841...</td>\n",
       "      <td>[]</td>\n",
       "      <td>Basic Power Trio Guit</td>\n",
       "    </tr>\n",
       "    <tr>\n",
       "      <th>1</th>\n",
       "      <td>2016-12-02T04:05:35.403000</td>\n",
       "      <td>A strong Crunch (DS), with deep and clean ambi...</td>\n",
       "      <td>5840f30f2564d4058ad4c0f1</td>\n",
       "      <td>https://api.moddevices.com/v2/pedalboards/5840...</td>\n",
       "      <td>[]</td>\n",
       "      <td>Crunch with Clean Ambience</td>\n",
       "    </tr>\n",
       "  </tbody>\n",
       "</table>\n",
       "</div>"
      ],
      "text/plain": [
       "                      created  \\\n",
       "0  2016-12-02T12:56:24.984000   \n",
       "1  2016-12-02T04:05:35.403000   \n",
       "\n",
       "                                         description  \\\n",
       "0  Practical set for basic power trio gigs.\\nClea...   \n",
       "1  A strong Crunch (DS), with deep and clean ambi...   \n",
       "\n",
       "                         id  \\\n",
       "0  58416f792564d40589088018   \n",
       "1  5840f30f2564d4058ad4c0f1   \n",
       "\n",
       "                                            imageUrl plugins  \\\n",
       "0  https://api.moddevices.com/v2/pedalboards/5841...      []   \n",
       "1  https://api.moddevices.com/v2/pedalboards/5840...      []   \n",
       "\n",
       "                        title  \n",
       "0       Basic Power Trio Guit  \n",
       "1  Crunch with Clean Ambience  "
      ]
     },
     "execution_count": 3,
     "metadata": {},
     "output_type": "execute_result"
    }
   ],
   "source": [
    "import pandas as pd\n",
    "\n",
    "def info(pedalboards):\n",
    "    data_dump = json.dumps(pedalboards)\n",
    "\n",
    "    return pd.read_json(\n",
    "          data_dump,\n",
    "          orient='created', \n",
    "          convert_dates=['created'],\n",
    "          date_unit='s'\n",
    "        ).drop(labels=['audioUrl', 'author', 'hasAudio', 'fileHref'], axis=1)\n",
    "\n",
    "df = info(data['items'])\n",
    "df.head()"
   ]
  },
  {
   "cell_type": "markdown",
   "metadata": {},
   "source": [
    "## Análise\n",
    "\n",
    "Trataremos agora todos os 1000 primeiros pedalboards (pode ser que tenham menos registrados na plataforma)"
   ]
  },
  {
   "cell_type": "code",
   "execution_count": 4,
   "metadata": {
    "collapsed": false
   },
   "outputs": [
    {
     "name": "stdout",
     "output_type": "stream",
     "text": [
      "Total de pedalboards carregados: 152\n",
      "Existem mais pedalboards? False\n",
      "Limite: 1000 pedalboards a serem carregados\n"
     ]
    }
   ],
   "source": [
    "limite = 1000\n",
    "r = requests.get('https://pedalboards.moddevices.com/api/pedalboards?skip=0&take={}'.format(limite))\n",
    "data = r.json()\n",
    "\n",
    "print(\"Total de pedalboards carregados:\", len(data['items']))\n",
    "print(\"Existem mais pedalboards?\", data['hasMore'])\n",
    "print(\"Limite:\", limite, \"pedalboards a serem carregados\")"
   ]
  },
  {
   "cell_type": "markdown",
   "metadata": {},
   "source": [
    "### Rotulação (tagging) de pedalboards\n",
    "\n",
    "Como o site não possui rotulação de pedalboards, traremo-nos essa tarefa. Para tal é necessário\n",
    "\n",
    "1. Obter as palavras que mais utilizadas, para assim escolher as que mais se encaixam no meio musical;\n",
    "1. Classificar os pedalboards com base nessas palavras.\n",
    "\n",
    "Uma análise humana muito provavelmente irá ser necessária"
   ]
  },
  {
   "cell_type": "markdown",
   "metadata": {},
   "source": [
    "Tokenizar (separar) e rotular as palavras "
   ]
  },
  {
   "cell_type": "code",
   "execution_count": 5,
   "metadata": {
    "collapsed": false
   },
   "outputs": [
    {
     "data": {
      "text/html": [
       "<div>\n",
       "<table border=\"1\" class=\"dataframe\">\n",
       "  <thead>\n",
       "    <tr style=\"text-align: right;\">\n",
       "      <th></th>\n",
       "      <th>created</th>\n",
       "      <th>description</th>\n",
       "      <th>description_tagged</th>\n",
       "      <th>description_tokenized</th>\n",
       "      <th>id</th>\n",
       "      <th>imageUrl</th>\n",
       "      <th>plugins</th>\n",
       "      <th>title</th>\n",
       "    </tr>\n",
       "  </thead>\n",
       "  <tbody>\n",
       "    <tr>\n",
       "      <th>0</th>\n",
       "      <td>2016-12-02T12:56:24.984000</td>\n",
       "      <td>Practical set for basic power trio gigs.\\nClea...</td>\n",
       "      <td>[[practical, JJ], [set, NN], [for, IN], [basic...</td>\n",
       "      <td>[practical, set, for, basic, power, trio, gigs...</td>\n",
       "      <td>58416f792564d40589088018</td>\n",
       "      <td>https://api.moddevices.com/v2/pedalboards/5841...</td>\n",
       "      <td>[]</td>\n",
       "      <td>Basic Power Trio Guit</td>\n",
       "    </tr>\n",
       "    <tr>\n",
       "      <th>1</th>\n",
       "      <td>2016-12-02T04:05:35.403000</td>\n",
       "      <td>A strong Crunch (DS), with deep and clean ambi...</td>\n",
       "      <td>[[a, DT], [strong, JJ], [crunch, NN], [(, (], ...</td>\n",
       "      <td>[a, strong, crunch, (, ds, ), ,, with, deep, a...</td>\n",
       "      <td>5840f30f2564d4058ad4c0f1</td>\n",
       "      <td>https://api.moddevices.com/v2/pedalboards/5840...</td>\n",
       "      <td>[]</td>\n",
       "      <td>Crunch with Clean Ambience</td>\n",
       "    </tr>\n",
       "    <tr>\n",
       "      <th>2</th>\n",
       "      <td>2016-11-22T21:52:58.597000</td>\n",
       "      <td>This is an updated version of the board I used...</td>\n",
       "      <td>[[this, DT], [is, VBZ], [an, DT], [updated, JJ...</td>\n",
       "      <td>[this, is, an, updated, version, of, the, boar...</td>\n",
       "      <td>5834be3a2564d426347c1831</td>\n",
       "      <td>https://api.moddevices.com/v2/pedalboards/5834...</td>\n",
       "      <td>[]</td>\n",
       "      <td>dual channel bleepy ambience and overdriven lead</td>\n",
       "    </tr>\n",
       "    <tr>\n",
       "      <th>3</th>\n",
       "      <td>2016-11-19T21:16:09.820000</td>\n",
       "      <td>lots of sounds, lots of fun..</td>\n",
       "      <td>[[lots, NNS], [of, IN], [sounds, NNS], [,, ,],...</td>\n",
       "      <td>[lots, of, sounds, ,, lots, of, fun.., br, -, ...</td>\n",
       "      <td>5830c1192564d426347c17a1</td>\n",
       "      <td>https://api.moddevices.com/v2/pedalboards/5830...</td>\n",
       "      <td>[]</td>\n",
       "      <td>BR - RingM-Scream-Loop</td>\n",
       "    </tr>\n",
       "    <tr>\n",
       "      <th>4</th>\n",
       "      <td>2016-11-17T07:02:26.926000</td>\n",
       "      <td>Version 2 of my shimmer/swell pedalboard. Easi...</td>\n",
       "      <td>[[version, NN], [2, CD], [of, IN], [my, PRP$],...</td>\n",
       "      <td>[version, 2, of, my, shimmer/swell, pedalboard...</td>\n",
       "      <td>582d56032564d42635fa9a52</td>\n",
       "      <td>https://api.moddevices.com/v2/pedalboards/582d...</td>\n",
       "      <td>[]</td>\n",
       "      <td>Shimmer2</td>\n",
       "    </tr>\n",
       "  </tbody>\n",
       "</table>\n",
       "</div>"
      ],
      "text/plain": [
       "                      created  \\\n",
       "0  2016-12-02T12:56:24.984000   \n",
       "1  2016-12-02T04:05:35.403000   \n",
       "2  2016-11-22T21:52:58.597000   \n",
       "3  2016-11-19T21:16:09.820000   \n",
       "4  2016-11-17T07:02:26.926000   \n",
       "\n",
       "                                         description  \\\n",
       "0  Practical set for basic power trio gigs.\\nClea...   \n",
       "1  A strong Crunch (DS), with deep and clean ambi...   \n",
       "2  This is an updated version of the board I used...   \n",
       "3                      lots of sounds, lots of fun..   \n",
       "4  Version 2 of my shimmer/swell pedalboard. Easi...   \n",
       "\n",
       "                                  description_tagged  \\\n",
       "0  [[practical, JJ], [set, NN], [for, IN], [basic...   \n",
       "1  [[a, DT], [strong, JJ], [crunch, NN], [(, (], ...   \n",
       "2  [[this, DT], [is, VBZ], [an, DT], [updated, JJ...   \n",
       "3  [[lots, NNS], [of, IN], [sounds, NNS], [,, ,],...   \n",
       "4  [[version, NN], [2, CD], [of, IN], [my, PRP$],...   \n",
       "\n",
       "                               description_tokenized  \\\n",
       "0  [practical, set, for, basic, power, trio, gigs...   \n",
       "1  [a, strong, crunch, (, ds, ), ,, with, deep, a...   \n",
       "2  [this, is, an, updated, version, of, the, boar...   \n",
       "3  [lots, of, sounds, ,, lots, of, fun.., br, -, ...   \n",
       "4  [version, 2, of, my, shimmer/swell, pedalboard...   \n",
       "\n",
       "                         id  \\\n",
       "0  58416f792564d40589088018   \n",
       "1  5840f30f2564d4058ad4c0f1   \n",
       "2  5834be3a2564d426347c1831   \n",
       "3  5830c1192564d426347c17a1   \n",
       "4  582d56032564d42635fa9a52   \n",
       "\n",
       "                                            imageUrl plugins  \\\n",
       "0  https://api.moddevices.com/v2/pedalboards/5841...      []   \n",
       "1  https://api.moddevices.com/v2/pedalboards/5840...      []   \n",
       "2  https://api.moddevices.com/v2/pedalboards/5834...      []   \n",
       "3  https://api.moddevices.com/v2/pedalboards/5830...      []   \n",
       "4  https://api.moddevices.com/v2/pedalboards/582d...      []   \n",
       "\n",
       "                                              title  \n",
       "0                             Basic Power Trio Guit  \n",
       "1                        Crunch with Clean Ambience  \n",
       "2  dual channel bleepy ambience and overdriven lead  \n",
       "3                            BR - RingM-Scream-Loop  \n",
       "4                                          Shimmer2  "
      ]
     },
     "execution_count": 5,
     "metadata": {},
     "output_type": "execute_result"
    }
   ],
   "source": [
    "import nltk\n",
    "\n",
    "tokenize = lambda phase: [word.lower() for word in nltk.word_tokenize(phase)]\n",
    "\n",
    "for pedalboard in data['items']:\n",
    "    pedalboard['description_tokenized'] = tokenize(pedalboard['description']) + tokenize(pedalboard['title'])\n",
    "    pedalboard['description_tagged'] = nltk.pos_tag(pedalboard['description_tokenized'])\n",
    "\n",
    "df = info(data['items'])\n",
    "df.head()"
   ]
  },
  {
   "cell_type": "markdown",
   "metadata": {},
   "source": [
    "Palavras mais comuns. Observe que tem muita coisa aqui que não interessa"
   ]
  },
  {
   "cell_type": "code",
   "execution_count": 6,
   "metadata": {
    "collapsed": false
   },
   "outputs": [
    {
     "name": "stdout",
     "output_type": "stream",
     "text": [
      "0       (the, 231)\n",
      "1         (., 180)\n",
      "2       (and, 106)\n",
      "3         (,, 106)\n",
      "4          (a, 95)\n",
      "5       (with, 90)\n",
      "6         (to, 73)\n",
      "7        (for, 72)\n",
      "8         (of, 48)\n",
      "9     (guitar, 44)\n",
      "10        (in, 36)\n",
      "11         (i, 34)\n",
      "12         (!, 34)\n",
      "13       (mod, 33)\n",
      "14     (clean, 32)\n",
      "15        (on, 32)\n",
      "16        (it, 31)\n",
      "17         (), 31)\n",
      "18         (:, 30)\n",
      "19         (-, 29)\n",
      "20      (this, 27)\n",
      "21        (is, 26)\n",
      "22     (sound, 24)\n",
      "23        (my, 22)\n",
      "24     (using, 22)\n",
      "dtype: object\n"
     ]
    }
   ],
   "source": [
    "from collections import Counter\n",
    "from pandas import Series\n",
    "\n",
    "count_all = Counter()\n",
    "\n",
    "for pedalboard in data['items']:\n",
    "    count_all.update(pedalboard['description_tokenized'])\n",
    "\n",
    "print(Series(count_all.most_common(25)))"
   ]
  },
  {
   "cell_type": "markdown",
   "metadata": {},
   "source": [
    "Tags mais comuns"
   ]
  },
  {
   "cell_type": "code",
   "execution_count": 7,
   "metadata": {
    "collapsed": false
   },
   "outputs": [
    {
     "name": "stdout",
     "output_type": "stream",
     "text": [
      "[('NN', 1125), ('JJ', 430), ('DT', 405), ('IN', 377), ('.', 217), ('NNS', 177), ('RB', 123), ('CC', 123), ('VB', 121), (',', 106), ('VBG', 97), ('CD', 84), ('VBZ', 77), (':', 73), ('TO', 73), ('VBN', 65), ('PRP', 61), ('VBP', 52), ('VBD', 51), (')', 31), ('PRP$', 31), ('RP', 27), ('MD', 22), ('(', 16), ('NNP', 14), ('POS', 12), ('WDT', 11), (\"''\", 10), ('``', 9), ('WRB', 8), ('FW', 7), ('SYM', 6), ('PDT', 5), ('JJR', 4), ('#', 3), ('JJS', 2), ('$', 2), ('EX', 2), ('WP', 2), ('RBR', 2)]\n"
     ]
    }
   ],
   "source": [
    "words_tagged = []\n",
    "\n",
    "for pedalboard in data['items']:\n",
    "    words_tagged += pedalboard['description_tagged']\n",
    "\n",
    "tag_fd = nltk.FreqDist(tag for (word, tag) in words_tagged)\n",
    "print(tag_fd.most_common())"
   ]
  },
  {
   "cell_type": "code",
   "execution_count": 8,
   "metadata": {
    "collapsed": false
   },
   "outputs": [
    {
     "name": "stdout",
     "output_type": "stream",
     "text": [
      "\n"
     ]
    }
   ],
   "source": [
    "# Não entendi pq não funciona\n",
    "text = nltk.Text(set(count_all))\n",
    "text.similar('effect')"
   ]
  },
  {
   "cell_type": "markdown",
   "metadata": {},
   "source": [
    "Foi observado empiricamente que NN possui a maioria dos casos desejados:"
   ]
  },
  {
   "cell_type": "code",
   "execution_count": 9,
   "metadata": {
    "collapsed": false
   },
   "outputs": [
    {
     "name": "stdout",
     "output_type": "stream",
     "text": [
      "NN: noun, common, singular or mass\n",
      "    common-carrier cabbage knuckle-duster Casino afghan shed thermostat\n",
      "    investment slide humour falloff slick wind hyena override subhumanity\n",
      "    machinist ...\n",
      "NNP: noun, proper, singular\n",
      "    Motown Venneboerger Czestochwa Ranzer Conchita Trumplane Christos\n",
      "    Oceanside Escobar Kreisler Sawyer Cougar Yvette Ervin ODI Darryl CTCA\n",
      "    Shannon A.K.C. Meltex Liverpool ...\n",
      "NNPS: noun, proper, plural\n",
      "    Americans Americas Amharas Amityvilles Amusements Anarcho-Syndicalists\n",
      "    Andalusians Andes Andruses Angels Animals Anthony Antilles Antiques\n",
      "    Apache Apaches Apocrypha ...\n",
      "NNS: noun, common, plural\n",
      "    undergraduates scotches bric-a-brac products bodyguards facets coasts\n",
      "    divestitures storehouses designs clubs fragrances averages\n",
      "    subjectivists apprehensions muses factory-jobs ...\n"
     ]
    }
   ],
   "source": [
    "nltk.help.upenn_tagset('NN.*')"
   ]
  },
  {
   "cell_type": "code",
   "execution_count": 10,
   "metadata": {
    "collapsed": false
   },
   "outputs": [
    {
     "name": "stdout",
     "output_type": "stream",
     "text": [
      "[('guitar', 43), ('mod', 31), ('sound', 23), ('i', 21), ('loop', 18), ('pedalboard', 17), ('bass', 17), ('tone', 14), ('reverb', 14), ('delay', 14), ('caps', 13), ('midi', 12), ('side', 11), ('cabinet', 11), ('sounds', 11), ('instruments', 10), ('channel', 10), ('space', 10), ('amp', 9), ('effects', 9), ('olaf', 8), ('pedal', 8), ('stefan', 8), ('patch', 8), ('cowboys', 8)]\n"
     ]
    }
   ],
   "source": [
    "noum = [(word, tag) for (word, tag) in words_tagged if tag.startswith('NN')]\n",
    "\n",
    "noum_frequence = nltk.FreqDist(word for (word, tag) in noum)\n",
    "print(noum_frequence.most_common(25))"
   ]
  },
  {
   "cell_type": "markdown",
   "metadata": {},
   "source": [
    "Pedalboards with reverb"
   ]
  },
  {
   "cell_type": "code",
   "execution_count": 11,
   "metadata": {
    "collapsed": false
   },
   "outputs": [
    {
     "data": {
      "text/html": [
       "<div>\n",
       "<table border=\"1\" class=\"dataframe\">\n",
       "  <thead>\n",
       "    <tr style=\"text-align: right;\">\n",
       "      <th></th>\n",
       "      <th>created</th>\n",
       "      <th>description</th>\n",
       "      <th>description_tagged</th>\n",
       "      <th>description_tokenized</th>\n",
       "      <th>id</th>\n",
       "      <th>imageUrl</th>\n",
       "      <th>plugins</th>\n",
       "      <th>title</th>\n",
       "    </tr>\n",
       "  </thead>\n",
       "  <tbody>\n",
       "    <tr>\n",
       "      <th>0</th>\n",
       "      <td>2016-10-08T10:50:08.322000</td>\n",
       "      <td>A kind of maximalistic reverb. Set up as a sen...</td>\n",
       "      <td>[[a, DT], [kind, NN], [of, IN], [maximalistic,...</td>\n",
       "      <td>[a, kind, of, maximalistic, reverb, ., set, up...</td>\n",
       "      <td>57f8cf602564d40b88f95aab</td>\n",
       "      <td>https://api.moddevices.com/v2/pedalboards/57f8...</td>\n",
       "      <td>[]</td>\n",
       "      <td>Deep Well</td>\n",
       "    </tr>\n",
       "    <tr>\n",
       "      <th>1</th>\n",
       "      <td>2016-10-01T11:44:48.417000</td>\n",
       "      <td>A clean patch with some nice reverb.</td>\n",
       "      <td>[[a, DT], [clean, JJ], [patch, NN], [with, IN]...</td>\n",
       "      <td>[a, clean, patch, with, some, nice, reverb, .,...</td>\n",
       "      <td>57efa1b02564d40b88f9598f</td>\n",
       "      <td>https://api.moddevices.com/v2/pedalboards/57ef...</td>\n",
       "      <td>[]</td>\n",
       "      <td>Klean Aula #1</td>\n",
       "    </tr>\n",
       "    <tr>\n",
       "      <th>2</th>\n",
       "      <td>2016-09-30T19:39:33.725000</td>\n",
       "      <td>Just a some tools to use with my students</td>\n",
       "      <td>[[just, RB], [a, DT], [some, DT], [tools, NNS]...</td>\n",
       "      <td>[just, a, some, tools, to, use, with, my, stud...</td>\n",
       "      <td>57eebf752564d40b88f95960</td>\n",
       "      <td>https://api.moddevices.com/v2/pedalboards/57ee...</td>\n",
       "      <td>[]</td>\n",
       "      <td>Mixer, Reverb and Click [rogeriocouto.com.br]</td>\n",
       "    </tr>\n",
       "    <tr>\n",
       "      <th>3</th>\n",
       "      <td>2016-09-20T10:05:34.909000</td>\n",
       "      <td>Inspired by Tame Impala, having the phaser and...</td>\n",
       "      <td>[[inspired, VBN], [by, IN], [tame, NN], [impal...</td>\n",
       "      <td>[inspired, by, tame, impala, ,, having, the, p...</td>\n",
       "      <td>57e109ef2564d426b976d740</td>\n",
       "      <td>https://api.moddevices.com/v2/pedalboards/57e1...</td>\n",
       "      <td>[]</td>\n",
       "      <td>Not-so-tame Impala</td>\n",
       "    </tr>\n",
       "    <tr>\n",
       "      <th>4</th>\n",
       "      <td>2016-09-12T17:03:21.188000</td>\n",
       "      <td>Combining a rhythmic delay in parallel with my...</td>\n",
       "      <td>[[combining, VBG], [a, DT], [rhythmic, JJ], [d...</td>\n",
       "      <td>[combining, a, rhythmic, delay, in, parallel, ...</td>\n",
       "      <td>57d6dfd92564d404d77cd0a4</td>\n",
       "      <td>https://api.moddevices.com/v2/pedalboards/57d6...</td>\n",
       "      <td>[]</td>\n",
       "      <td>Ambient Guitar</td>\n",
       "    </tr>\n",
       "  </tbody>\n",
       "</table>\n",
       "</div>"
      ],
      "text/plain": [
       "                      created  \\\n",
       "0  2016-10-08T10:50:08.322000   \n",
       "1  2016-10-01T11:44:48.417000   \n",
       "2  2016-09-30T19:39:33.725000   \n",
       "3  2016-09-20T10:05:34.909000   \n",
       "4  2016-09-12T17:03:21.188000   \n",
       "\n",
       "                                         description  \\\n",
       "0  A kind of maximalistic reverb. Set up as a sen...   \n",
       "1               A clean patch with some nice reverb.   \n",
       "2          Just a some tools to use with my students   \n",
       "3  Inspired by Tame Impala, having the phaser and...   \n",
       "4  Combining a rhythmic delay in parallel with my...   \n",
       "\n",
       "                                  description_tagged  \\\n",
       "0  [[a, DT], [kind, NN], [of, IN], [maximalistic,...   \n",
       "1  [[a, DT], [clean, JJ], [patch, NN], [with, IN]...   \n",
       "2  [[just, RB], [a, DT], [some, DT], [tools, NNS]...   \n",
       "3  [[inspired, VBN], [by, IN], [tame, NN], [impal...   \n",
       "4  [[combining, VBG], [a, DT], [rhythmic, JJ], [d...   \n",
       "\n",
       "                               description_tokenized  \\\n",
       "0  [a, kind, of, maximalistic, reverb, ., set, up...   \n",
       "1  [a, clean, patch, with, some, nice, reverb, .,...   \n",
       "2  [just, a, some, tools, to, use, with, my, stud...   \n",
       "3  [inspired, by, tame, impala, ,, having, the, p...   \n",
       "4  [combining, a, rhythmic, delay, in, parallel, ...   \n",
       "\n",
       "                         id  \\\n",
       "0  57f8cf602564d40b88f95aab   \n",
       "1  57efa1b02564d40b88f9598f   \n",
       "2  57eebf752564d40b88f95960   \n",
       "3  57e109ef2564d426b976d740   \n",
       "4  57d6dfd92564d404d77cd0a4   \n",
       "\n",
       "                                            imageUrl plugins  \\\n",
       "0  https://api.moddevices.com/v2/pedalboards/57f8...      []   \n",
       "1  https://api.moddevices.com/v2/pedalboards/57ef...      []   \n",
       "2  https://api.moddevices.com/v2/pedalboards/57ee...      []   \n",
       "3  https://api.moddevices.com/v2/pedalboards/57e1...      []   \n",
       "4  https://api.moddevices.com/v2/pedalboards/57d6...      []   \n",
       "\n",
       "                                           title  \n",
       "0                                      Deep Well  \n",
       "1                                  Klean Aula #1  \n",
       "2  Mixer, Reverb and Click [rogeriocouto.com.br]  \n",
       "3                             Not-so-tame Impala  \n",
       "4                                 Ambient Guitar  "
      ]
     },
     "execution_count": 11,
     "metadata": {},
     "output_type": "execute_result"
    }
   ],
   "source": [
    "pedalboards_with_reverb = [pedalboard for pedalboard in data['items'] if 'reverb' in pedalboard['description_tokenized']]\n",
    "\n",
    "df = info(pedalboards_with_reverb)\n",
    "df.head()"
   ]
  },
  {
   "cell_type": "markdown",
   "metadata": {},
   "source": [
    "Obtendo detalhes dos pedalboards para obter os efeitos utilizados"
   ]
  },
  {
   "cell_type": "code",
   "execution_count": 13,
   "metadata": {
    "collapsed": true
   },
   "outputs": [],
   "source": [
    "for pedalboard in pedalboards_with_reverb:\n",
    "    r = requests.get('https://pedalboards.moddevices.com/api/pedalboards/{}'.format(pedalboard['id']))\n",
    "    data = r.json()\n",
    "\n",
    "    pedalboard['data'] = data"
   ]
  },
  {
   "cell_type": "code",
   "execution_count": 14,
   "metadata": {
    "collapsed": false
   },
   "outputs": [
    {
     "data": {
      "text/plain": [
       "http://moddevices.com/plugins/mod-devel/Gain2x2                        9\n",
       "http://moddevices.com/plugins/mod-devel/Gain                           6\n",
       "http://drobilla.net/plugins/fomp/reverb                                5\n",
       "http://guitarix.sourceforge.net/plugins/gxts9#ts9sim                   5\n",
       "http://guitarix.sourceforge.net/plugins/gx_cabinet#CABINET             5\n",
       "http://moddevices.com/plugins/caps/AmpVTS                              3\n",
       "http://moddevices.com/plugins/sooperlooper                             3\n",
       "http://moddevices.com/plugins/mod-devel/ToggleSwitch4                  3\n",
       "http://invadarecords.com/plugins/lv2/delay/mono                        2\n",
       "http://moddevices.com/plugins/mod-devel/HighPassFilter                 2\n",
       "http://moddevices.com/plugins/tap/tubewarmth                           2\n",
       "http://guitarix.sourceforge.net/plugins/gx_studiopre#studiopre         2\n",
       "http://faust-lv2.googlecode.com/Prefreak                               2\n",
       "http://guitarix.sourceforge.net/plugins/gx_susta_#_susta_              2\n",
       "http://www.openavproductions.com/artyfx#roomy                          2\n",
       "http://guitarix.sourceforge.net/plugins/gx_fuzzfacefm_#_fuzzfacefm_    2\n",
       "http://moddevices.com/plugins/tap/echo                                 2\n",
       "http://drobilla.net/plugins/fomp/cs_chorus2                            2\n",
       "http://distrho.sf.net/plugins/MVerb                                    2\n",
       "http://moddevices.com/plugins/tap/dynamics                             2\n",
       "https://github.com/ninodewit/SHIRO-Plugins/plugins/modulay             2\n",
       "http://moddevices.com/plugins/tap/tremolo                              2\n",
       "http://rakarrack.sourceforge.net/effects.html#dist                     2\n",
       "http://drobilla.net/plugins/fomp/cs_chorus1                            2\n",
       "http://moddevices.com/plugins/caps/Plate                               2\n",
       "http://moddevices.com/plugins/caps/Wider                               1\n",
       "http://www.openavproductions.com/artyfx#kuiza                          1\n",
       "http://distrho.sf.net/plugins/PingPongPan                              1\n",
       "http://gareus.org/oss/lv2/midifilter#quantize                          1\n",
       "http://guitarix.sourceforge.net/plugins/gx_oc_2_#_oc_2_                1\n",
       "http://drobilla.net/plugins/fomp/autowah                               1\n",
       "http://gareus.org/oss/lv2/midifilter#keyrange                          1\n",
       "http://guitarix.sourceforge.net/plugins/gx_mbdelay_#_mbdelay_          1\n",
       "http://moddevices.com/plugins/mod-devel/CrossOver2                     1\n",
       "http://moddevices.com/plugins/caps/Click                               1\n",
       "http://moddevices.com/plugins/mod-devel/BigMuffPi                      1\n",
       "http://moddevices.com/plugins/tap/sigmoid                              1\n",
       "http://moddevices.com/plugins/caps/CabinetIV                           1\n",
       "http://rakarrack.sourceforge.net/effects.html#reve                     1\n",
       "http://moddevices.com/plugins/caps/Scape                               1\n",
       "https://github.com/ninodewit/SHIRO-Plugins/plugins/larynx              1\n",
       "http://guitarix.sourceforge.net/plugins/gx_detune_#_detune_            1\n",
       "https://github.com/ninodewit/SHIRO-Plugins/plugins/shiroverb           1\n",
       "http://kxstudio.linuxaudio.org/plugins/FluidPlug_FluidDrums            1\n",
       "http://moddevices.com/plugins/mod-devel/SwitchBox2                     1\n",
       "http://moddevices.com/plugins/tap/reflector                            1\n",
       "http://moddevices.com/plugins/caps/PhaserII                            1\n",
       "http://moddevices.com/plugins/tap/pinknoise                            1\n",
       "http://distrho.sf.net/plugins/Nekobi                                   1\n",
       "dtype: int64"
      ]
     },
     "execution_count": 14,
     "metadata": {},
     "output_type": "execute_result"
    }
   ],
   "source": [
    "pedalboards_with_reverb_effects = []\n",
    "\n",
    "for pedalboard in pedalboards_with_reverb:\n",
    "    for plugin in pedalboard['data']['plugins']:\n",
    "        pedalboards_with_reverb_effects.append(plugin['uri'])\n",
    "\n",
    "\n",
    "pedalboards_with_reverb_effects = list(Counter(pedalboards_with_reverb_effects).most_common())\n",
    "effects = [uri for uri, _ in pedalboards_with_reverb_effects]\n",
    "counts = [count for _, count in pedalboards_with_reverb_effects]\n",
    "\n",
    "Series(counts, index=effects)"
   ]
  },
  {
   "cell_type": "markdown",
   "metadata": {},
   "source": [
    "Material de referência de estudos:\n",
    "* https://rodjun.github.io/analise-kabum.html\n",
    "* http://www.datascienceacademy.com.br/path-player?courseid=python-fundamentos\n",
    "* https://github.com/ipython/ipython/wiki/A-gallery-of-interesting-IPython-Notebooks#natural-language-processing\n",
    "* http://nbviewer.jupyter.org/github/fbkarsdorp/python-course/blob/master/Chapter%204%20-%20Programming%20principles.ipynb#Use-library-references,-3rd-party-modules,-and-google-errors-if-you're-stuck\n",
    "\n",
    "Links para eu não perder:\n",
    "* Pedalboards: https://pedalboards.moddevices.com/api/pedalboards?skip=0&take=1000&all=true\n",
    "* Pedalboard:\n",
    " * Details: https://api.moddevices.com/v2/pedalboards/58416f792564d40589088018\n",
    " * Image: https://api.moddevices.com/v2/pedalboards/58416f792564d40589088018/thumbnail"
   ]
  }
 ],
 "metadata": {
  "anaconda-cloud": {},
  "kernelspec": {
   "display_name": "Python [default]",
   "language": "python",
   "name": "python3"
  },
  "language_info": {
   "codemirror_mode": {
    "name": "ipython",
    "version": 3
   },
   "file_extension": ".py",
   "mimetype": "text/x-python",
   "name": "python",
   "nbconvert_exporter": "python",
   "pygments_lexer": "ipython3",
   "version": "3.5.2"
  }
 },
 "nbformat": 4,
 "nbformat_minor": 2
}
